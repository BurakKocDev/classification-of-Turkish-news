{
 "cells": [
  {
   "cell_type": "code",
   "execution_count": 1,
   "id": "f0c52c34-0ec7-4356-aa51-fb54a2fd32b7",
   "metadata": {},
   "outputs": [],
   "source": [
    "# \"PROGRAMA GIRDI OLARAK VERILEN HABER METINLERININ KATEGORISINI CIKTI OLARAK VEREN PROGRAM PROJESI\"\n",
    "\n",
    "import pandas as pd      # veri analizi ve islemler icin\n",
    "import nltk              # metinleri analiz etmek ve islemek icin\n",
    "import re                # metinler islemleri icin\n",
    "\n",
    "# CountVectorizer - metin verilerini bag of words modeline göre sayisal vektörlere donusturmek icin\n",
    "# (her bir metin, icindeki kelimelerin frekanslarıyla temsil edilir.)\n",
    "\n",
    "# TF-IDF Yontemi - sıkca gecen ama bilgilendirici olmayan kelimelerin etkisini azaltir \n",
    "# ve nadir ama bilgilendirici kelimelerin onemini artırır.\n",
    "\n",
    "from sklearn.feature_extraction.text import CountVectorizer, TfidfTransformer\n",
    "from sklearn.model_selection import train_test_split\n",
    "from sklearn.naive_bayes import MultinomialNB\n",
    "#NEDEN NAIVE BAYES?\n",
    "# - AZ VERI ILE IYI OLUYO\n",
    "# - NLP DE IYI OLUYO\n",
    "# - HIZLICA BITIRELIM ISTE\n",
    "# - Alternatif - SVM, KNN, RF belki\n",
    "from sklearn.metrics import classification_report, accuracy_score, confusion_matrix\n",
    "from sklearn.pipeline import Pipeline # tek islem zinciri uzerinde yapma\n",
    "import matplotlib.pyplot as plt  # veri görsellestirme\n",
    "import joblib\n",
    "import seaborn as sns\n",
    "\n",
    "# NLTK durak kelimeleri indirme (ilk kez calıstırıyorsak)\n",
    "# nltk.download('stopwords')    "
   ]
  },
  {
   "cell_type": "code",
   "execution_count": 3,
   "id": "151d40c7-4b1c-4849-a1d5-e35571b398c3",
   "metadata": {},
   "outputs": [],
   "source": [
    "# Veri yükleme\n",
    "df = pd.read_excel(\"C:/Users/Lenovo/Desktop/TurkceHaberMetinleriniSiniflandirma-master/TurkceHaberMetinleriniSiniflandirma-master/data/gazete.xlsx\")"
   ]
  },
  {
   "cell_type": "code",
   "execution_count": 7,
   "id": "662a01a6-1133-40f9-9f28-ee29141a5cfa",
   "metadata": {},
   "outputs": [
    {
     "data": {
      "text/html": [
       "<div>\n",
       "<style scoped>\n",
       "    .dataframe tbody tr th:only-of-type {\n",
       "        vertical-align: middle;\n",
       "    }\n",
       "\n",
       "    .dataframe tbody tr th {\n",
       "        vertical-align: top;\n",
       "    }\n",
       "\n",
       "    .dataframe thead th {\n",
       "        text-align: right;\n",
       "    }\n",
       "</style>\n",
       "<table border=\"1\" class=\"dataframe\">\n",
       "  <thead>\n",
       "    <tr style=\"text-align: right;\">\n",
       "      <th></th>\n",
       "      <th>kategori</th>\n",
       "      <th>icerik</th>\n",
       "    </tr>\n",
       "  </thead>\n",
       "  <tbody>\n",
       "    <tr>\n",
       "      <th>0</th>\n",
       "      <td>magazin</td>\n",
       "      <td>SAPIĞIN BİLE GURURSUZU BANA DENK GELDİ Ece Erk...</td>\n",
       "    </tr>\n",
       "    <tr>\n",
       "      <th>1</th>\n",
       "      <td>magazin</td>\n",
       "      <td>Çekim dönüşü Kenan İmirzalıoğlu, geçtiğimiz ak...</td>\n",
       "    </tr>\n",
       "    <tr>\n",
       "      <th>2</th>\n",
       "      <td>magazin</td>\n",
       "      <td>Paylaştığı fotoğraf Twitter'da olay oldu! Vict...</td>\n",
       "    </tr>\n",
       "    <tr>\n",
       "      <th>3</th>\n",
       "      <td>magazin</td>\n",
       "      <td>DANIŞTAY, 5 DAKİKA SEVİŞMEYİ UZUN BULDU Danışt...</td>\n",
       "    </tr>\n",
       "    <tr>\n",
       "      <th>4</th>\n",
       "      <td>magazin</td>\n",
       "      <td>Yağmur ve Emre dudak dudağa Kanal D'nin yeni y...</td>\n",
       "    </tr>\n",
       "  </tbody>\n",
       "</table>\n",
       "</div>"
      ],
      "text/plain": [
       "  kategori                                             icerik\n",
       "0  magazin  SAPIĞIN BİLE GURURSUZU BANA DENK GELDİ Ece Erk...\n",
       "1  magazin  Çekim dönüşü Kenan İmirzalıoğlu, geçtiğimiz ak...\n",
       "2  magazin  Paylaştığı fotoğraf Twitter'da olay oldu! Vict...\n",
       "3  magazin  DANIŞTAY, 5 DAKİKA SEVİŞMEYİ UZUN BULDU Danışt...\n",
       "4  magazin  Yağmur ve Emre dudak dudağa Kanal D'nin yeni y..."
      ]
     },
     "execution_count": 7,
     "metadata": {},
     "output_type": "execute_result"
    }
   ],
   "source": [
    "df.head()"
   ]
  },
  {
   "cell_type": "code",
   "execution_count": 9,
   "id": "1e61a6c3-985d-4b2b-8d62-1aacb545bfd8",
   "metadata": {},
   "outputs": [
    {
     "data": {
      "text/plain": [
       "5577"
      ]
     },
     "execution_count": 9,
     "metadata": {},
     "output_type": "execute_result"
    }
   ],
   "source": [
    "len(df)"
   ]
  },
  {
   "cell_type": "code",
   "execution_count": 13,
   "id": "0dfb095f-a701-4659-938f-3cfbdb5c4e2a",
   "metadata": {},
   "outputs": [],
   "source": [
    "# Türkçe durak kelimeler (stopwords) listesi\n",
    "stop_word_list = nltk.corpus.stopwords.words('turkish')"
   ]
  },
  {
   "cell_type": "markdown",
   "id": "64ae4b72-9980-4a7a-bad2-61d4b4b6f64a",
   "metadata": {},
   "source": [
    "- Özel karakterleri kaldırıyoruz.\n",
    "- Tüm metinleri küçük harfe çeviriyoruz.\n",
    "- Başındaki ve sonundaki boşlukları kaldırıyoruz."
   ]
  },
  {
   "cell_type": "code",
   "execution_count": 15,
   "id": "cce9a3b4-dae5-4b95-a6b2-41847b24d4f9",
   "metadata": {},
   "outputs": [],
   "source": [
    "# Haber içeriklerini temizleme\n",
    "docs = df['icerik']\n",
    "docs = docs.map(lambda x: re.sub(r\"[-()\\\"#/@;:<>{}+=~|.!?,]\", '', x))\n",
    "docs = docs.map(lambda x: x.lower())\n",
    "docs = docs.map(lambda x: x.strip())"
   ]
  },
  {
   "cell_type": "code",
   "execution_count": 17,
   "id": "ad39d447-d999-492e-9b4a-88819d81793a",
   "metadata": {},
   "outputs": [],
   "source": [
    "# Durak kelimeleri kaldıriyore\n",
    "def token(values):\n",
    "    filtered_words = [word for word in values.split() if word not in stop_word_list]\n",
    "    not_stopword_doc = \" \".join(filtered_words)\n",
    "    return not_stopword_doc"
   ]
  },
  {
   "cell_type": "code",
   "execution_count": 19,
   "id": "c42517b4-626b-43c8-a1c1-71df7ec451ba",
   "metadata": {},
   "outputs": [],
   "source": [
    "# Durak kelimeler temizliyore\n",
    "docs = docs.map(lambda x: token(x))\n",
    "df['icerik'] = docs"
   ]
  },
  {
   "cell_type": "markdown",
   "id": "b5f5600e-30e6-484a-a464-84215aa5fbbb",
   "metadata": {},
   "source": [
    "- makine öğrenmesi algoritmasının verilerile calısabilmesi icin kategorik verileri sayisal degerlere donusturuyoruzz"
   ]
  },
  {
   "cell_type": "code",
   "execution_count": 21,
   "id": "b9a437fb-2b6c-4ac7-97c6-21b269119846",
   "metadata": {},
   "outputs": [],
   "source": [
    "# Kategorileri sayısal değerlere dönüştürmek\n",
    "df[\"kategori_id\"] = df[\"kategori\"].factorize()[0]  # kategorileri 0,1..5 diye numaralandırma"
   ]
  },
  {
   "cell_type": "code",
   "execution_count": null,
   "id": "77326b3c-7360-4cc8-94bd-13decfc0df52",
   "metadata": {},
   "outputs": [],
   "source": [
    "- kategorileri ve bunlara karsılık gelen sayisal degerler icin dataframe olusturuyoruz"
   ]
  },
  {
   "cell_type": "code",
   "execution_count": 23,
   "id": "2bf851a0-c0f9-4cae-84f7-b9cf281e1195",
   "metadata": {},
   "outputs": [],
   "source": [
    "# Kategori ve kategori ID'si eşleşmeleri\n",
    "kategori_id_df = df[['kategori', 'kategori_id']].drop_duplicates().sort_values('kategori_id')\n",
    "kategori_to_id = dict(kategori_id_df.values)\n",
    "id_to_kategori = dict(kategori_id_df[['kategori_id', 'kategori']].values)"
   ]
  },
  {
   "cell_type": "code",
   "execution_count": 25,
   "id": "2705d190-763c-45b4-9bcb-5ab96568a3e6",
   "metadata": {},
   "outputs": [
    {
     "data": {
      "image/png": "[encoded data removed]",
      "text/plain": [
       "<Figure size 640x480 with 1 Axes>"
      ]
     },
     "metadata": {},
     "output_type": "display_data"
    }
   ],
   "source": [
    "# Kategori dağılımını görselleştirme\n",
    "df.groupby('kategori').kategori_id.count().plot.bar(ylim=0)\n",
    "plt.show()"
   ]
  },
  {
   "cell_type": "code",
   "execution_count": 27,
   "id": "c2e69c52-c087-4b5e-88c8-8d44051dc54d",
   "metadata": {},
   "outputs": [],
   "source": [
    "# Özellikler (X) ve hedefler (y)\n",
    "X = df[\"icerik\"]\n",
    "y = df[\"kategori_id\"]"
   ]
  },
  {
   "cell_type": "code",
   "execution_count": 29,
   "id": "b6827dbf-69b8-435c-b9e0-79da6fcf4cb6",
   "metadata": {},
   "outputs": [],
   "source": [
    "# Eğitim ve test setlerine ayırma\n",
    "X_train, X_test, y_train, y_test = train_test_split(X, y, test_size = 0.20, random_state = 0)"
   ]
  },
  {
   "cell_type": "code",
   "execution_count": 31,
   "id": "4473af9d-fe0f-4186-b6bd-69cb745160fa",
   "metadata": {},
   "outputs": [],
   "source": [
    "# Makine öğrenmesi pipeline\n",
    "text_clf = Pipeline([\n",
    "    ('vect', CountVectorizer()),        # Metin verilerini kelime frekanslarına göre vektörize eder\n",
    "    ('tfidf', TfidfTransformer()),      # Vektörize edilmiş kelime frekanslarını TF-IDF skorlarına dönüştürür\n",
    "    ('clf', MultinomialNB(alpha=1)),    # Naive Bayes sınıflandırıcısını kullanarak model oluşturur # sifir olasilik pr. için\n",
    "])\n",
    "\n",
    "# Model eğitimi\n",
    "text_clf.fit(X_train, y_train)\n",
    "\n",
    "# Test seti tahminleri\n",
    "y_pred = text_clf.predict(X_test)"
   ]
  },
  {
   "cell_type": "code",
   "execution_count": 33,
   "id": "7d0114f6-d72a-4b23-a2fd-a240b66550c7",
   "metadata": {},
   "outputs": [
    {
     "name": "stdout",
     "output_type": "stream",
     "text": [
      "Model Doğruluğu: 0.86\n",
      "              precision    recall  f1-score   support\n",
      "\n",
      "     magazin       0.77      0.92      0.84       225\n",
      "       dunya       0.82      0.89      0.85       207\n",
      "        spor       0.97      0.92      0.95       173\n",
      "     siyaset       0.89      0.92      0.90       216\n",
      "kultur-sanat       0.89      0.75      0.82       183\n",
      "   teknoloji       0.97      0.68      0.80       112\n",
      "\n",
      "    accuracy                           0.86      1116\n",
      "   macro avg       0.89      0.85      0.86      1116\n",
      "weighted avg       0.87      0.86      0.86      1116\n",
      "\n"
     ]
    }
   ],
   "source": [
    "# Modelin doğruluğunu hesaplama\n",
    "accuracy = accuracy_score(y_test, y_pred)\n",
    "print(f\"Model Doğruluğu: {accuracy:.2f}\")\n",
    "\n",
    "# Performans raporu\n",
    "print(classification_report(y_test, y_pred, target_names=df['kategori'].unique()))\n",
    "\n",
    "# Hata matrisi oluşturma\n",
    "conf_mat = confusion_matrix(y_test, y_pred)"
   ]
  },
  {
   "cell_type": "code",
   "execution_count": 35,
   "id": "818cd298-f956-4b9e-9cb1-ceecec140468",
   "metadata": {},
   "outputs": [
    {
     "data": {
      "image/png": "[encoded data removed]",
      "text/plain": [
       "<Figure size 1000x700 with 2 Axes>"
      ]
     },
     "metadata": {},
     "output_type": "display_data"
    }
   ],
   "source": [
    "# Hata matrisini görselleştirme\n",
    "plt.figure(figsize=(10,7))\n",
    "sns.heatmap(conf_mat, annot=True, fmt='d',\n",
    "            xticklabels=kategori_id_df['kategori'].values, \n",
    "            yticklabels=kategori_id_df['kategori'].values,\n",
    "            cmap='Blues')\n",
    "plt.ylabel('Gerçek')\n",
    "plt.xlabel('Tahmin Edilen')\n",
    "plt.title('Hata Matrisi')\n",
    "plt.show()"
   ]
  },
  {
   "cell_type": "code",
   "execution_count": 37,
   "id": "d385406f-deae-46f9-9d30-6e511dbcf441",
   "metadata": {},
   "outputs": [],
   "source": [
    "# Modeli kaydetme\n",
    "joblib.dump(text_clf, \"NB_gazete_model.pkl\")\n",
    "\n",
    "# Modeli yükleme\n",
    "NB_gazete_model = open(\"NB_gazete_model.pkl\", \"rb\")\n",
    "model = joblib.load(NB_gazete_model)"
   ]
  },
  {
   "cell_type": "code",
   "execution_count": 39,
   "id": "2ccdaabc-cfec-4e90-85a3-91b6d702f397",
   "metadata": {},
   "outputs": [
    {
     "name": "stdout",
     "output_type": "stream",
     "text": [
      "Metin: aptığı ve düzenlediği yardımlarla sık sık konuşula...\n",
      "Tahmin Edilen Kategori: magazin\n",
      "\n",
      "Metin: Wesley Sneijder Galatasaray'a yardımcı antrenör ol...\n",
      "Tahmin Edilen Kategori: spor\n",
      "\n",
      "Metin: Avrupa'da salgınının en son ulaştığı ülke olan Kar...\n",
      "Tahmin Edilen Kategori: dunya\n",
      "\n",
      "Metin: Recep Tayyip Erdoğan yeni kabineyi duyurdu!...\n",
      "Tahmin Edilen Kategori: siyaset\n",
      "\n",
      "Metin: Yeni girişimcilere büyük fırsatlar sunacağına vaad...\n",
      "Tahmin Edilen Kategori: magazin\n",
      "\n",
      "Metin:  Hakan Fidan, Rıdvan Dilmen'e 3 milyar liralık ara...\n",
      "Tahmin Edilen Kategori: siyaset\n",
      "\n",
      "Metin: Recep Tayyip Erdoğan Eşiyle görüntülendi...\n",
      "Tahmin Edilen Kategori: siyaset\n",
      "\n"
     ]
    }
   ],
   "source": [
    "# Yeni metinler üzerinde tahmin yapma\n",
    "texts = [\n",
    "    \"\"\"aptığı ve düzenlediği yardımlarla sık sık konuşulan Haluk Levent, Twitter hesabından, \"Bir bayram günü kostümü! Bayramınız kutlu olsun\" ifadeleriyle hem Ramazan Bayramını kutladı hem de geçmiş yıllara ait bir fotoğrafını paylaştı. Levent'in takipçilerinin büyük ilgi gösterdiği fotoğraf yaklaşık 55 bin beğeni alırken, Haluk Levent'e yanıt türkücü Mahsun Kırmızıgül'den geldi. Yıllar öncesine ait albüm fotoğraflarını Twitter'dan paylaşan Mahsun Kırmızıgül, \"Alem yakışıklı görsün. @haluklevent senden daha beterleri var. Bu resimler çekildiğinde ilk heyecanları yaşıyorduk. Hey gidi günler hey\" ifadelerini kullandı.\"\"\",\n",
    "    \"\"\"Wesley Sneijder Galatasaray'a yardımcı antrenör olarak geri dönüyor Galatasaray'da Hasan Şaş'ın istifasının ardından boşalan yardımcı antrenörlük görevine sarı kırmızılıların eski yıldızı Wesley Sneijder'in getirileceği iddia edildi.\"\"\",\n",
    "    \"\"\"Avrupa'da salgınının en son ulaştığı ülke olan Karadağ'da koronavirüs vakası kalmadı Dünya genelinde yeni tip koronavirüs salgınında hayatını kaybedenlerin sayısı 345 bini aşarken, iyileşen sayısı da 2 milyon 290 bine yaklaştı. Avrupa'da salgınının en son ulaştığı ülke olan Karadağ'da ise aktif vaka kalmadı.\"\"\",\n",
    "    \"\"\"Recep Tayyip Erdoğan yeni kabineyi duyurdu!\"\"\",\n",
    "    \"\"\"Yeni girişimcilere büyük fırsatlar sunacağına vaadeden ekonomi bakanı Mehmet Şimşek, kendi kurduğu teknoloji şirketi \"Lightinuo\" yu halka açık şekilde duyurdu. Şimşek, firmasının Türkiye ekonomisine en çok katkıda bulunacağını düşündüğü için çip üretimi yapacağını belirtti.\"\"\",\n",
    "    \"\"\" Hakan Fidan, Rıdvan Dilmen'e 3 milyar liralık araba hediye etti. \"\"\",\n",
    "    \"\"\"Recep Tayyip Erdoğan Eşiyle görüntülendi\"\"\"\n",
    "]\n",
    "\n",
    "for text in texts:\n",
    "    data = [text]\n",
    "    prediction = model.predict(data)[0]\n",
    "    print(f\"Metin: {text[:50]}...\\nTahmin Edilen Kategori: {id_to_kategori[prediction]}\\n\")"
   ]
  },
  {
   "cell_type": "code",
   "execution_count": null,
   "id": "c8ced2c9-edd5-462f-b951-11a186b588f1",
   "metadata": {},
   "outputs": [],
   "source": []
  }
 ],
 "metadata": {
  "kernelspec": {
   "display_name": "Python 3 (ipykernel)",
   "language": "python",
   "name": "python3"
  },
  "language_info": {
   "codemirror_mode": {
    "name": "ipython",
    "version": 3
   },
   "file_extension": ".py",
   "mimetype": "text/x-python",
   "name": "python",
   "nbconvert_exporter": "python",
   "pygments_lexer": "ipython3",
   "version": "3.12.4"
  }
 },
 "nbformat": 4,
 "nbformat_minor": 5
}
